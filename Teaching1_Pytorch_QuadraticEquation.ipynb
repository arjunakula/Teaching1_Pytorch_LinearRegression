{
  "nbformat": 4,
  "nbformat_minor": 0,
  "metadata": {
    "colab": {
      "name": "Teaching1_Pytorch_QuadraticEquation.ipynb",
      "provenance": [],
      "collapsed_sections": [],
      "include_colab_link": true
    },
    "kernelspec": {
      "name": "python3",
      "display_name": "Python 3"
    }
  },
  "cells": [
    {
      "cell_type": "markdown",
      "metadata": {
        "id": "view-in-github",
        "colab_type": "text"
      },
      "source": [
        "<a href=\"https://colab.research.google.com/github/arjunakula/Teaching1_Pytorch_LinearRegression/blob/master/Teaching1_Pytorch_QuadraticEquation.ipynb\" target=\"_parent\"><img src=\"https://colab.research.google.com/assets/colab-badge.svg\" alt=\"Open In Colab\"/></a>"
      ]
    },
    {
      "cell_type": "code",
      "metadata": {
        "id": "hzQ2ibC_yIip",
        "colab_type": "code",
        "colab": {}
      },
      "source": [
        "#https://medium.com/inspired-ideas/learning-a-quadratic-equation-with-pytorch-intro-to-pytorch-fa7bcef380a4"
      ],
      "execution_count": 0,
      "outputs": []
    },
    {
      "cell_type": "code",
      "metadata": {
        "id": "uKZBfL1vyQUf",
        "colab_type": "code",
        "colab": {}
      },
      "source": [
        "import torch\n",
        "from torch import Tensor\n",
        "from torch.nn import Linear, MSELoss, functional as F\n",
        "from torch.optim import SGD, Adam, RMSprop\n",
        "from torch.autograd import Variable\n",
        "import numpy as np\n"
      ],
      "execution_count": 0,
      "outputs": []
    },
    {
      "cell_type": "code",
      "metadata": {
        "id": "OZeELADdzruB",
        "colab_type": "code",
        "colab": {}
      },
      "source": [
        "# data generator\n",
        "def generate_data(dataset_size=1000):\n",
        " \n",
        "  # y = 10*x^2 + 5\n",
        "  inputs = []\n",
        "  labels = []\n",
        "  \n",
        "  for idx in range(0, dataset_size):\n",
        "    x = np.random.randint(400)/400\n",
        "    y = 10*x**2 + 5\n",
        "    \n",
        "    inputs.append([x])\n",
        "    labels.append([y])\n",
        "    \n",
        "  \n",
        "  \n",
        "  return inputs,labels"
      ],
      "execution_count": 0,
      "outputs": []
    },
    {
      "cell_type": "code",
      "metadata": {
        "id": "SV5ygKYUztvM",
        "colab_type": "code",
        "colab": {}
      },
      "source": [
        "inputs,labels = generate_data()"
      ],
      "execution_count": 0,
      "outputs": []
    },
    {
      "cell_type": "code",
      "metadata": {
        "id": "FJPxrHWz1SDX",
        "colab_type": "code",
        "colab": {}
      },
      "source": [
        "# define  model\n",
        "class Net(torch.nn.Module):\n",
        "  def __init__(self):\n",
        "    super(Net, self).__init__()\n",
        "    self.fc1 = Linear(1,6)\n",
        "    self.fc2 = Linear(6,6)\n",
        "    self.fc3 = Linear(6,1)\n",
        "    \n",
        "  def forward(self, x):\n",
        "    x = F.dropout(F.relu(self.fc1(x)), p=0.5)\n",
        "    x = F.relu(self.fc2(x))\n",
        "    x = self.fc3(x)\n",
        "    return x\n",
        "  "
      ],
      "execution_count": 0,
      "outputs": []
    },
    {
      "cell_type": "code",
      "metadata": {
        "id": "f_is3T3I3diU",
        "colab_type": "code",
        "colab": {}
      },
      "source": [
        "model = Net()"
      ],
      "execution_count": 0,
      "outputs": []
    },
    {
      "cell_type": "code",
      "metadata": {
        "id": "_twef64o3xjL",
        "colab_type": "code",
        "colab": {
          "base_uri": "https://localhost:8080/",
          "height": 357
        },
        "outputId": "d5670a25-bcac-46a9-e518-1100796f7e8f"
      },
      "source": [
        "list(model.parameters())"
      ],
      "execution_count": 170,
      "outputs": [
        {
          "output_type": "execute_result",
          "data": {
            "text/plain": [
              "[Parameter containing:\n",
              " tensor([[-0.0170],\n",
              "         [ 0.3269],\n",
              "         [-0.3787],\n",
              "         [-0.2873],\n",
              "         [ 0.4757],\n",
              "         [ 0.4488]], requires_grad=True), Parameter containing:\n",
              " tensor([0.1931, 0.8574, 0.9356, 0.9373, 0.4068, 0.4871], requires_grad=True), Parameter containing:\n",
              " tensor([[ 0.0838, -0.3057, -0.1399,  0.1036,  0.3133, -0.1036],\n",
              "         [ 0.2770,  0.0847, -0.1088,  0.3307, -0.1857,  0.2925],\n",
              "         [ 0.3358, -0.2938,  0.1714, -0.0778, -0.0998,  0.0213],\n",
              "         [ 0.3200, -0.3115, -0.2310, -0.1484,  0.3842,  0.2495],\n",
              "         [-0.0474, -0.2624,  0.1797, -0.0937, -0.2191, -0.1437],\n",
              "         [ 0.1048,  0.4006, -0.1709, -0.2130,  0.3465, -0.3981]],\n",
              "        requires_grad=True), Parameter containing:\n",
              " tensor([ 0.3428, -0.3629, -0.1308, -0.0256, -0.3035,  0.3761],\n",
              "        requires_grad=True), Parameter containing:\n",
              " tensor([[ 0.3273, -0.3563, -0.1939, -0.1857, -0.2762, -0.1339]],\n",
              "        requires_grad=True), Parameter containing:\n",
              " tensor([-0.1696], requires_grad=True)]"
            ]
          },
          "metadata": {
            "tags": []
          },
          "execution_count": 170
        }
      ]
    },
    {
      "cell_type": "code",
      "metadata": {
        "id": "OshciiOl3e5O",
        "colab_type": "code",
        "colab": {}
      },
      "source": [
        "#define loss function\n",
        "criterion = MSELoss()"
      ],
      "execution_count": 0,
      "outputs": []
    },
    {
      "cell_type": "code",
      "metadata": {
        "id": "83CajZX03fUq",
        "colab_type": "code",
        "colab": {}
      },
      "source": [
        "#define the optimizer\n",
        "optimizer = SGD(model.parameters(), lr=0.001)"
      ],
      "execution_count": 0,
      "outputs": []
    },
    {
      "cell_type": "code",
      "metadata": {
        "id": "bBnWZtka3-B6",
        "colab_type": "code",
        "colab": {}
      },
      "source": [
        ""
      ],
      "execution_count": 0,
      "outputs": []
    },
    {
      "cell_type": "code",
      "metadata": {
        "id": "E9fUSbOF4zX0",
        "colab_type": "code",
        "colab": {
          "base_uri": "https://localhost:8080/",
          "height": 1000
        },
        "outputId": "768ae375-549d-42bc-db13-d421d0d3c23b"
      },
      "source": [
        "#training\n",
        "\n",
        "num_epochs = 100\n",
        "\n",
        "data_size = 1000\n",
        "\n",
        "for epoch in range(num_epochs):\n",
        "  X, y = generate_data()\n",
        "  \n",
        "  epoch_loss = 0\n",
        "  \n",
        "  for ix in range(1000):\n",
        "    y_pred = model(Variable(Tensor(X[ix])))\n",
        "    \n",
        "    loss = criterion(y_pred, Variable(Tensor(y[ix]), requires_grad=False))\n",
        "    \n",
        "    epoch_loss = loss.item()\n",
        "    \n",
        "    optimizer.zero_grad()\n",
        "    \n",
        "    loss.backward()\n",
        "    \n",
        "    optimizer.step()\n",
        "  \n",
        "  print(\"Epoch: {} Loss: {}\".format(epoch, epoch_loss))\n",
        "  \n",
        "  \n"
      ],
      "execution_count": 173,
      "outputs": [
        {
          "output_type": "stream",
          "text": [
            "Epoch: 0 Loss: 0.9996204972267151\n",
            "Epoch: 1 Loss: 8.726326942443848\n",
            "Epoch: 2 Loss: 2.5659310817718506\n",
            "Epoch: 3 Loss: 0.30575570464134216\n",
            "Epoch: 4 Loss: 6.177152633666992\n",
            "Epoch: 5 Loss: 2.291241407394409\n",
            "Epoch: 6 Loss: 0.23770804703235626\n",
            "Epoch: 7 Loss: 2.471971273422241\n",
            "Epoch: 8 Loss: 0.269185870885849\n",
            "Epoch: 9 Loss: 0.0695965513586998\n",
            "Epoch: 10 Loss: 1.4374921321868896\n",
            "Epoch: 11 Loss: 0.20015574991703033\n",
            "Epoch: 12 Loss: 0.6882319450378418\n",
            "Epoch: 13 Loss: 1.1409944295883179\n",
            "Epoch: 14 Loss: 0.2992177903652191\n",
            "Epoch: 15 Loss: 0.4118342995643616\n",
            "Epoch: 16 Loss: 1.9234875440597534\n",
            "Epoch: 17 Loss: 0.012193364091217518\n",
            "Epoch: 18 Loss: 0.1235385313630104\n",
            "Epoch: 19 Loss: 0.02167138084769249\n",
            "Epoch: 20 Loss: 0.034844376146793365\n",
            "Epoch: 21 Loss: 0.6894477605819702\n",
            "Epoch: 22 Loss: 0.003935690503567457\n",
            "Epoch: 23 Loss: 0.09633100032806396\n",
            "Epoch: 24 Loss: 0.3252476453781128\n",
            "Epoch: 25 Loss: 0.10978292673826218\n",
            "Epoch: 26 Loss: 0.1513780951499939\n",
            "Epoch: 27 Loss: 0.014001763425767422\n",
            "Epoch: 28 Loss: 0.18013790249824524\n",
            "Epoch: 29 Loss: 0.028519483283162117\n",
            "Epoch: 30 Loss: 2.6550726890563965\n",
            "Epoch: 31 Loss: 0.05714280903339386\n",
            "Epoch: 32 Loss: 0.4296726584434509\n",
            "Epoch: 33 Loss: 0.6147298812866211\n",
            "Epoch: 34 Loss: 0.2772321105003357\n",
            "Epoch: 35 Loss: 0.08404992520809174\n",
            "Epoch: 36 Loss: 0.17861516773700714\n",
            "Epoch: 37 Loss: 0.4506877660751343\n",
            "Epoch: 38 Loss: 0.006809709127992392\n",
            "Epoch: 39 Loss: 7.462804794311523\n",
            "Epoch: 40 Loss: 1.2101414203643799\n",
            "Epoch: 41 Loss: 0.007669039536267519\n",
            "Epoch: 42 Loss: 0.047350116074085236\n",
            "Epoch: 43 Loss: 0.19812744855880737\n",
            "Epoch: 44 Loss: 0.006517557427287102\n",
            "Epoch: 45 Loss: 0.08435599505901337\n",
            "Epoch: 46 Loss: 0.08889999985694885\n",
            "Epoch: 47 Loss: 0.26548081636428833\n",
            "Epoch: 48 Loss: 0.22256945073604584\n",
            "Epoch: 49 Loss: 0.10255856066942215\n",
            "Epoch: 50 Loss: 1.2539576292037964\n",
            "Epoch: 51 Loss: 0.48475536704063416\n",
            "Epoch: 52 Loss: 8.84285831451416\n",
            "Epoch: 53 Loss: 0.0030026256572455168\n",
            "Epoch: 54 Loss: 1.9334745407104492\n",
            "Epoch: 55 Loss: 0.007832929491996765\n",
            "Epoch: 56 Loss: 0.24981120228767395\n",
            "Epoch: 57 Loss: 0.6861757040023804\n",
            "Epoch: 58 Loss: 0.38545602560043335\n",
            "Epoch: 59 Loss: 0.005382804200053215\n",
            "Epoch: 60 Loss: 0.005932547152042389\n",
            "Epoch: 61 Loss: 0.6325165033340454\n",
            "Epoch: 62 Loss: 4.1549428715370595e-05\n",
            "Epoch: 63 Loss: 0.016379917040467262\n",
            "Epoch: 64 Loss: 0.0768418163061142\n",
            "Epoch: 65 Loss: 0.013978414237499237\n",
            "Epoch: 66 Loss: 0.1195884719491005\n",
            "Epoch: 67 Loss: 2.303269147872925\n",
            "Epoch: 68 Loss: 0.0023889378644526005\n",
            "Epoch: 69 Loss: 0.00804211013019085\n",
            "Epoch: 70 Loss: 0.024108359590172768\n",
            "Epoch: 71 Loss: 0.8728049993515015\n",
            "Epoch: 72 Loss: 0.0035377228632569313\n",
            "Epoch: 73 Loss: 0.597429096698761\n",
            "Epoch: 74 Loss: 0.6069098114967346\n",
            "Epoch: 75 Loss: 0.007632169406861067\n",
            "Epoch: 76 Loss: 0.5623419284820557\n",
            "Epoch: 77 Loss: 0.47379252314567566\n",
            "Epoch: 78 Loss: 0.043558552861213684\n",
            "Epoch: 79 Loss: 0.022430988028645515\n",
            "Epoch: 80 Loss: 1.7899678945541382\n",
            "Epoch: 81 Loss: 0.045564547181129456\n",
            "Epoch: 82 Loss: 1.58815336227417\n",
            "Epoch: 83 Loss: 0.7859048843383789\n",
            "Epoch: 84 Loss: 1.0208595991134644\n",
            "Epoch: 85 Loss: 0.07501965761184692\n",
            "Epoch: 86 Loss: 0.7755973935127258\n",
            "Epoch: 87 Loss: 0.026376472786068916\n",
            "Epoch: 88 Loss: 1.9489755630493164\n",
            "Epoch: 89 Loss: 0.44079282879829407\n",
            "Epoch: 90 Loss: 0.32047581672668457\n",
            "Epoch: 91 Loss: 0.28216829895973206\n",
            "Epoch: 92 Loss: 1.4361752271652222\n",
            "Epoch: 93 Loss: 0.9295704364776611\n",
            "Epoch: 94 Loss: 0.5711907744407654\n",
            "Epoch: 95 Loss: 0.00845347624272108\n",
            "Epoch: 96 Loss: 0.14993667602539062\n",
            "Epoch: 97 Loss: 0.958462655544281\n",
            "Epoch: 98 Loss: 1.3102771043777466\n",
            "Epoch: 99 Loss: 0.3305546045303345\n"
          ],
          "name": "stdout"
        }
      ]
    },
    {
      "cell_type": "code",
      "metadata": {
        "id": "1N0IpQ1FbU8G",
        "colab_type": "code",
        "colab": {}
      },
      "source": [
        "#testing\n",
        "model.eval()\n",
        "test_data = generate_data(1)\n"
      ],
      "execution_count": 0,
      "outputs": []
    },
    {
      "cell_type": "code",
      "metadata": {
        "id": "1f5SGOJdcgzZ",
        "colab_type": "code",
        "colab": {
          "base_uri": "https://localhost:8080/",
          "height": 34
        },
        "outputId": "1c69aaa5-c776-45bd-84aa-682c12d0412d"
      },
      "source": [
        "test_data"
      ],
      "execution_count": 187,
      "outputs": [
        {
          "output_type": "execute_result",
          "data": {
            "text/plain": [
              "([[0.12]], [[5.144]])"
            ]
          },
          "metadata": {
            "tags": []
          },
          "execution_count": 187
        }
      ]
    },
    {
      "cell_type": "code",
      "metadata": {
        "id": "jvq593xRchsB",
        "colab_type": "code",
        "colab": {}
      },
      "source": [
        "prediction = model(Variable(Tensor(test_data[0][0])))"
      ],
      "execution_count": 0,
      "outputs": []
    },
    {
      "cell_type": "code",
      "metadata": {
        "id": "KcDWUaEGcrmH",
        "colab_type": "code",
        "colab": {
          "base_uri": "https://localhost:8080/",
          "height": 34
        },
        "outputId": "9467bc12-2396-473c-9b1c-b1da16c35090"
      },
      "source": [
        "prediction"
      ],
      "execution_count": 189,
      "outputs": [
        {
          "output_type": "execute_result",
          "data": {
            "text/plain": [
              "tensor([6.1361], grad_fn=<AddBackward0>)"
            ]
          },
          "metadata": {
            "tags": []
          },
          "execution_count": 189
        }
      ]
    },
    {
      "cell_type": "code",
      "metadata": {
        "id": "Ss0fW2m6csRe",
        "colab_type": "code",
        "colab": {
          "base_uri": "https://localhost:8080/",
          "height": 34
        },
        "outputId": "a9d63ca1-745f-41fc-977c-1cbd08f58dc0"
      },
      "source": [
        "print(\"Prediction: {}\".format(prediction.data[0]))"
      ],
      "execution_count": 190,
      "outputs": [
        {
          "output_type": "stream",
          "text": [
            "Prediction: 6.136107444763184\n"
          ],
          "name": "stdout"
        }
      ]
    },
    {
      "cell_type": "code",
      "metadata": {
        "id": "nRDbnuFKc2oj",
        "colab_type": "code",
        "colab": {
          "base_uri": "https://localhost:8080/",
          "height": 34
        },
        "outputId": "dc83eafe-3b0e-44c0-d15c-79be2160ee45"
      },
      "source": [
        "print(\"Expected: {}\".format(test_data[1][0]))"
      ],
      "execution_count": 191,
      "outputs": [
        {
          "output_type": "stream",
          "text": [
            "Expected: [5.144]\n"
          ],
          "name": "stdout"
        }
      ]
    },
    {
      "cell_type": "code",
      "metadata": {
        "id": "BMdUm0Mzc-Ez",
        "colab_type": "code",
        "colab": {}
      },
      "source": [
        ""
      ],
      "execution_count": 0,
      "outputs": []
    }
  ]
}
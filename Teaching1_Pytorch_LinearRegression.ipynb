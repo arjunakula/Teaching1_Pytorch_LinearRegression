{
  "nbformat": 4,
  "nbformat_minor": 0,
  "metadata": {
    "colab": {
      "name": "Teaching1_Pytorch_LinearRegression.ipynb",
      "provenance": [],
      "collapsed_sections": [],
      "include_colab_link": true
    },
    "kernelspec": {
      "name": "python3",
      "display_name": "Python 3"
    },
    "accelerator": "GPU"
  },
  "cells": [
    {
      "cell_type": "markdown",
      "metadata": {
        "id": "view-in-github",
        "colab_type": "text"
      },
      "source": [
        "<a href=\"https://colab.research.google.com/github/arjunakula/Teaching1_Pytorch_LinearRegression/blob/master/Teaching1_Pytorch_LinearRegression.ipynb\" target=\"_parent\"><img src=\"https://colab.research.google.com/assets/colab-badge.svg\" alt=\"Open In Colab\"/></a>"
      ]
    },
    {
      "cell_type": "code",
      "metadata": {
        "id": "lNYoAu3YwLCn",
        "colab_type": "code",
        "colab": {}
      },
      "source": [
        ""
      ],
      "execution_count": 0,
      "outputs": []
    },
    {
      "cell_type": "code",
      "metadata": {
        "id": "9aVQOds5wUec",
        "colab_type": "code",
        "colab": {}
      },
      "source": [
        "#https://medium.com/@ally_20818/pytorch-101-linear-regression-with-pytorch-d2d22291c37d\n"
      ],
      "execution_count": 0,
      "outputs": []
    },
    {
      "cell_type": "code",
      "metadata": {
        "id": "RXej08qXwZDc",
        "colab_type": "code",
        "colab": {}
      },
      "source": [
        "import torch"
      ],
      "execution_count": 0,
      "outputs": []
    },
    {
      "cell_type": "code",
      "metadata": {
        "id": "U6x7PbLhxo0r",
        "colab_type": "code",
        "colab": {}
      },
      "source": [
        "from torch.autograd import Variable "
      ],
      "execution_count": 0,
      "outputs": []
    },
    {
      "cell_type": "code",
      "metadata": {
        "id": "jHLOD7vmxteZ",
        "colab_type": "code",
        "colab": {}
      },
      "source": [
        "from torch.nn import Linear, Module, MSELoss"
      ],
      "execution_count": 0,
      "outputs": []
    },
    {
      "cell_type": "code",
      "metadata": {
        "id": "nWXh4r_Fx1h6",
        "colab_type": "code",
        "colab": {}
      },
      "source": [
        "from torch.optim import SGD"
      ],
      "execution_count": 0,
      "outputs": []
    },
    {
      "cell_type": "code",
      "metadata": {
        "id": "1H6tdJW-x4_q",
        "colab_type": "code",
        "colab": {}
      },
      "source": [
        "import numpy as np"
      ],
      "execution_count": 0,
      "outputs": []
    },
    {
      "cell_type": "code",
      "metadata": {
        "id": "4A5Jfrt4x7_-",
        "colab_type": "code",
        "colab": {}
      },
      "source": [
        "#y=3x+4"
      ],
      "execution_count": 0,
      "outputs": []
    },
    {
      "cell_type": "code",
      "metadata": {
        "id": "EK6PPaj3T1NN",
        "colab_type": "code",
        "colab": {}
      },
      "source": [
        "#generate data points\n",
        "def generate_dataset(size = 100):\n",
        "  #y = 3x+4\n",
        "  inputs = []\n",
        "  outputs = []\n",
        "  for ix in range(size):\n",
        "    random_num = np.random.randint(100)/100\n",
        "    inputs.append([random_num])\n",
        "    outputs.append([3*random_num + 4])\n",
        "  return inputs, outputs"
      ],
      "execution_count": 0,
      "outputs": []
    },
    {
      "cell_type": "code",
      "metadata": {
        "id": "0tMTLcIZUiwW",
        "colab_type": "code",
        "colab": {}
      },
      "source": [
        "#Define model\n",
        "class LinearRegressionModel(torch.nn.Module):\n",
        "  def __init__(self):\n",
        "    super(LinearRegressionModel, self).__init__()\n",
        "    self.fc = Linear(1,1)\n",
        "   \n",
        "  def forward(self, x):\n",
        "    x = self.fc(x)\n",
        "    return x\n"
      ],
      "execution_count": 0,
      "outputs": []
    },
    {
      "cell_type": "code",
      "metadata": {
        "id": "CAljzCi1VOd8",
        "colab_type": "code",
        "colab": {}
      },
      "source": [
        "model = LinearRegressionModel()"
      ],
      "execution_count": 0,
      "outputs": []
    },
    {
      "cell_type": "code",
      "metadata": {
        "id": "XZlIxwZoVV7B",
        "colab_type": "code",
        "colab": {}
      },
      "source": [
        "#define loss\n",
        "criterion = MSELoss()\n"
      ],
      "execution_count": 0,
      "outputs": []
    },
    {
      "cell_type": "code",
      "metadata": {
        "id": "B4kMDwFXViWL",
        "colab_type": "code",
        "colab": {}
      },
      "source": [
        "#define optimizer\n",
        "optimizer = SGD(model.parameters(), lr=0.01, momentum = 0.01)"
      ],
      "execution_count": 0,
      "outputs": []
    },
    {
      "cell_type": "code",
      "metadata": {
        "id": "mYDRYyBGVt0a",
        "colab_type": "code",
        "colab": {
          "base_uri": "https://localhost:8080/",
          "height": 521
        },
        "outputId": "eb389dc3-63d6-42aa-b9e2-8201df639354"
      },
      "source": [
        "#train\n",
        "inputs, labels = generate_dataset(100)\n",
        "num_epochs = 30\n",
        "\n",
        "for epoch in range(num_epochs):\n",
        "  epoch_loss = 0\n",
        "  for ix, x in enumerate(inputs):\n",
        "    y_pred = model(Variable(torch.Tensor(x)))\n",
        "    loss = criterion(y_pred, Variable(torch.Tensor(labels[ix])))\n",
        "    epoch_loss = loss.item()\n",
        "    optimizer.zero_grad()\n",
        "    loss.backward()\n",
        "    optimizer.step()\n",
        "  print(\"Epoch: {}, Loss:{}\".format(epoch, epoch_loss))\n",
        "  "
      ],
      "execution_count": 21,
      "outputs": [
        {
          "output_type": "stream",
          "text": [
            "Epoch: 0, Loss:0.3466561734676361\n",
            "Epoch: 1, Loss:0.007594889961183071\n",
            "Epoch: 2, Loss:0.0020891069434583187\n",
            "Epoch: 3, Loss:0.0014775411691516638\n",
            "Epoch: 4, Loss:0.001164635643362999\n",
            "Epoch: 5, Loss:0.0009265556582249701\n",
            "Epoch: 6, Loss:0.000737726513762027\n",
            "Epoch: 7, Loss:0.0005873934715054929\n",
            "Epoch: 8, Loss:0.00046764244325459003\n",
            "Epoch: 9, Loss:0.0003723605477716774\n",
            "Epoch: 10, Loss:0.0002964469895232469\n",
            "Epoch: 11, Loss:0.00023605772003065795\n",
            "Epoch: 12, Loss:0.0001879385526990518\n",
            "Epoch: 13, Loss:0.0001496642507845536\n",
            "Epoch: 14, Loss:0.00011915373033843935\n",
            "Epoch: 15, Loss:9.486517956247553e-05\n",
            "Epoch: 16, Loss:7.553059549536556e-05\n",
            "Epoch: 17, Loss:6.015175677021034e-05\n",
            "Epoch: 18, Loss:4.789767262991518e-05\n",
            "Epoch: 19, Loss:3.8137022784212604e-05\n",
            "Epoch: 20, Loss:3.0368993975571357e-05\n",
            "Epoch: 21, Loss:2.4168934032786638e-05\n",
            "Epoch: 22, Loss:1.924490788951516e-05\n",
            "Epoch: 23, Loss:1.5329651432693936e-05\n",
            "Epoch: 24, Loss:1.21965458674822e-05\n",
            "Epoch: 25, Loss:9.710271115181968e-06\n",
            "Epoch: 26, Loss:7.733484380878508e-06\n",
            "Epoch: 27, Loss:6.155280061648227e-06\n",
            "Epoch: 28, Loss:4.903708031633869e-06\n",
            "Epoch: 29, Loss:3.906512574758381e-06\n"
          ],
          "name": "stdout"
        }
      ]
    },
    {
      "cell_type": "code",
      "metadata": {
        "id": "IZDNu3I6V2zC",
        "colab_type": "code",
        "colab": {
          "base_uri": "https://localhost:8080/",
          "height": 67
        },
        "outputId": "be51492f-65ef-447c-a8f0-6d36bdb26962"
      },
      "source": [
        "#testing\n",
        "model.eval()\n"
      ],
      "execution_count": 22,
      "outputs": [
        {
          "output_type": "execute_result",
          "data": {
            "text/plain": [
              "LinearRegressionModel(\n",
              "  (fc): Linear(in_features=1, out_features=1, bias=True)\n",
              ")"
            ]
          },
          "metadata": {
            "tags": []
          },
          "execution_count": 22
        }
      ]
    },
    {
      "cell_type": "code",
      "metadata": {
        "id": "i5DvL1akXBTS",
        "colab_type": "code",
        "colab": {}
      },
      "source": [
        "y_pred = model(Variable(torch.Tensor([-46])))"
      ],
      "execution_count": 0,
      "outputs": []
    },
    {
      "cell_type": "code",
      "metadata": {
        "id": "t1_J28qYXJsQ",
        "colab_type": "code",
        "colab": {
          "base_uri": "https://localhost:8080/",
          "height": 34
        },
        "outputId": "bf0d9fa5-c88a-43da-b85b-1e7afc82cea1"
      },
      "source": [
        "y_pred"
      ],
      "execution_count": 28,
      "outputs": [
        {
          "output_type": "execute_result",
          "data": {
            "text/plain": [
              "tensor([-132.8959], grad_fn=<AddBackward0>)"
            ]
          },
          "metadata": {
            "tags": []
          },
          "execution_count": 28
        }
      ]
    },
    {
      "cell_type": "code",
      "metadata": {
        "id": "x0a3T6LMXKof",
        "colab_type": "code",
        "colab": {}
      },
      "source": [
        ""
      ],
      "execution_count": 0,
      "outputs": []
    }
  ]
}